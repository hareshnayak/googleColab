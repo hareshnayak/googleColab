{
  "nbformat": 4,
  "nbformat_minor": 0,
  "metadata": {
    "colab": {
      "provenance": [],
      "mount_file_id": "1UA0uiFSV91wfkZmVCK6I-4ldFuKMkuNR",
      "authorship_tag": "ABX9TyNDxaL5W5FqBashG6E9YsjL",
      "include_colab_link": true
    },
    "kernelspec": {
      "name": "python3",
      "display_name": "Python 3"
    },
    "language_info": {
      "name": "python"
    }
  },
  "cells": [
    {
      "cell_type": "markdown",
      "metadata": {
        "id": "view-in-github",
        "colab_type": "text"
      },
      "source": [
        "<a href=\"https://colab.research.google.com/github/hareshnayak/googleColab/blob/main/gaussianSelf.ipynb\" target=\"_parent\"><img src=\"https://colab.research.google.com/assets/colab-badge.svg\" alt=\"Open In Colab\"/></a>"
      ]
    },
    {
      "cell_type": "markdown",
      "source": [],
      "metadata": {
        "id": "FBOz6jH8uis9"
      }
    },
    {
      "cell_type": "code",
      "execution_count": null,
      "metadata": {
        "id": "y4ce35U-rWgH"
      },
      "outputs": [],
      "source": [
        "import pandas as pd\n",
        "import numpy as np\n",
        "import matplotlib.pyplot as plt"
      ]
    },
    {
      "cell_type": "code",
      "source": [
        "# reading data from the csv\n",
        "\n",
        "data =  pd.read_csv(\"drive/My Drive/dataPR.csv\")\n",
        "x = data.Volt2"
      ],
      "metadata": {
        "id": "4woSpscIr_r8"
      },
      "execution_count": null,
      "outputs": []
    },
    {
      "cell_type": "code",
      "source": [
        "# Calculating mean of x\n",
        "\n",
        "def mean(x,size):\n",
        "  sum = 0  \n",
        "  for i in x:\n",
        "    sum+=i\n",
        "  return sum/size   "
      ],
      "metadata": {
        "id": "-cNTpU6bsKbI"
      },
      "execution_count": null,
      "outputs": []
    },
    {
      "cell_type": "code",
      "source": [
        "# Calculating variance of x\n",
        "\n",
        "def variance(x,size):\n",
        "  sum = 0  \n",
        "  m = mean(x,size)\n",
        "  for i in x:\n",
        "    sum+=np.square(i-m)\n",
        "  return sum/size  "
      ],
      "metadata": {
        "id": "Jq7PgbGhtGqA"
      },
      "execution_count": null,
      "outputs": []
    },
    {
      "cell_type": "code",
      "source": [
        "# Calculating standard deviation of x\n",
        "\n",
        "def stanDev(x):\n",
        "  return np.sqrt(variance(x,x.size))\n"
      ],
      "metadata": {
        "id": "BMvHMuzjs7mv"
      },
      "execution_count": null,
      "outputs": []
    },
    {
      "cell_type": "code",
      "source": [
        "# Calculating Gaussian Distribution of x\n",
        "\n",
        "def gaussian(i,m,var):  \n",
        "  coeff = 1/(np.sqrt(2*np.pi*var))\n",
        "  e = np.square(i-m)*(-1/(2*var))\n",
        "  return coeff*np.exp(e)\n"
      ],
      "metadata": {
        "id": "U18xTUb4r6dV"
      },
      "execution_count": null,
      "outputs": []
    },
    {
      "cell_type": "code",
      "source": [
        "# Printing the values of mean, variance nand standard deviation\n",
        "\n",
        "var = variance(x,x.size)\n",
        "m = mean(x,x.size)\n",
        "sd = stanDev(x)\n",
        "\n",
        "\n",
        "print(\"mean = \" + str(m))\n",
        "print(\"standard deviation = \" + str(sd))\n",
        "print(\"variance = \" + str(var))\n"
      ],
      "metadata": {
        "colab": {
          "base_uri": "https://localhost:8080/"
        },
        "id": "ma5v4Hdvsaia",
        "outputId": "cba744f1-bb7d-454d-f143-d1bcbf27cff3"
      },
      "execution_count": null,
      "outputs": [
        {
          "output_type": "stream",
          "name": "stdout",
          "text": [
            "mean = 0.3315719530704287\n",
            "standard deviation = 16.773247352452103\n",
            "variance = 281.3418267465415\n"
          ]
        }
      ]
    },
    {
      "cell_type": "code",
      "source": [
        "# Function to plot Gaussian Distribution\n",
        "\n",
        "def plotGaussian(x,m,var):\n",
        "  x_axis = np.arange(min(x),max(x),1)\n",
        "\n",
        "  plt.plot(x_axis,gaussian(x_axis,m,var))\n",
        "  plt.show()"
      ],
      "metadata": {
        "id": "vVZp7zSovSno"
      },
      "execution_count": null,
      "outputs": []
    },
    {
      "cell_type": "code",
      "source": [
        "# Plotting Gaussian Distribution\n",
        "\n",
        "plotGaussian(x,m,var)"
      ],
      "metadata": {
        "colab": {
          "base_uri": "https://localhost:8080/",
          "height": 265
        },
        "id": "h2Os1t-8yRB0",
        "outputId": "49e6fc50-6d73-4249-9d42-2d057d99eee7"
      },
      "execution_count": null,
      "outputs": [
        {
          "output_type": "display_data",
          "data": {
            "image/png": "[encoded data removed]",
            "text/plain": [
              "<Figure size 432x288 with 1 Axes>"
            ]
          },
          "metadata": {
            "needs_background": "light"
          }
        }
      ]
    },
    {
      "cell_type": "code",
      "source": [
        "# Calculating cumalative response\n",
        "x1 = [0]*400\n",
        "x2 = [0]*400\n",
        "x3 = [0]*400\n",
        "x4 = [0]*400\n",
        "x5 = [0]*400\n",
        "\n",
        "for i in range(1,400):\n",
        "  x1[i] = x[i]\n",
        "m1 = mean(x1,400)\n",
        "v1 = variance(x1,400)\n",
        "\n",
        "for i in range(401,800):\n",
        "  x2[i-400] = x[i]\n",
        "m2 = mean(x2,400)\n",
        "v2 = variance(x2,400)\n",
        "\n",
        "for i in range(801,1200):\n",
        "  x3[i-800] = x[i]\n",
        "m3 = mean(x3,400)\n",
        "v3 = variance(x3,400)  \n",
        "\n",
        "for i in range(1201,1600):\n",
        "  x4[i-1200] = x[i]\n",
        "m4 = mean(x4,400)\n",
        "v4 = variance(x4,400)\n",
        "\n",
        "for i in range(1601,2000):\n",
        "  x5[i-1600] = x[i]  \n",
        "m5 = mean(x5,400)\n",
        "v5 = variance(x5,400)\n",
        "\n",
        "temp = [0]*400\n",
        "temp1 = [0]*400\n",
        "for i in range(1,400):\n",
        "  temp1[i] = x1[i] * x2[i] * x3[i] * x4[i] * x5[i]\n",
        "  print(str(temp1[i]))\n",
        "  # if(i==1):\n",
        "  #   temp[i] = gaussian(x1[i],m1,v1)\n",
        "  #   print(str(temp[i]))\n",
        "  #   temp[i] *= gaussian(x2[i],m2,v2)\n",
        "  #   print(str(temp[i]))\n",
        "  #   temp[i] *= gaussian(x3[i],m3,v3)\n",
        "  #   print(str(temp[i]))\n",
        "  #   temp[i] *= gaussian(x4[i],m4,v4)\n",
        "  #   print(str(temp[i]))\n",
        "  #   temp[i] *= gaussian(x5[i],m5,v5)\n",
        "  #   print(str(temp[i]))"
      ],
      "metadata": {
        "id": "fqRGOOSn8NBK",
        "colab": {
          "base_uri": "https://localhost:8080/"
        },
        "outputId": "a1add2bf-8b7e-445e-fb57-690bdd10e59f"
      },
      "execution_count": null,
      "outputs": [
        {
          "output_type": "stream",
          "name": "stdout",
          "text": [
            "-1204824.8646477892\n",
            "-1074366.1213419777\n",
            "-1176474.264591547\n",
            "-1243464.8684104665\n",
            "-1243464.8684104665\n",
            "-1049088.3294478366\n",
            "-580318.6493064377\n",
            "-294199.45072585304\n",
            "-72925.939337072\n",
            "-23289.251594742353\n",
            "2629.7908121778746\n",
            "-13006.950517549065\n",
            "-99240.36106255597\n",
            "-126762.18171216435\n",
            "-178148.0349229861\n",
            "-205462.5863550158\n",
            "-335118.77364369313\n",
            "-421979.7208666372\n",
            "-405430.7058842136\n",
            "-502109.9764767154\n",
            "-585315.0275096601\n",
            "-643668.382051413\n",
            "-643802.7017083535\n",
            "-735453.8999533548\n",
            "-833202.03132771\n",
            "-801528.4186076447\n",
            "-936851.5951667962\n",
            "-1036080.8380492708\n",
            "-1046770.6551234103\n",
            "-1160027.196948387\n",
            "-1347474.8646818548\n",
            "-1281847.9277399536\n",
            "-1347474.864644308\n",
            "-1547403.505914442\n",
            "-1777329.4874331376\n",
            "-1543732.9951705048\n",
            "-1773158.836561977\n",
            "-1765849.4666324018\n",
            "-2024571.36698486\n",
            "-2012584.7166863866\n",
            "-1851852.7714718853\n",
            "-1909064.3265812062\n",
            "-2094622.7270200914\n",
            "-2083651.0090140952\n",
            "-2083651.00896639\n",
            "-2265386.8986533014\n",
            "-2165711.1436464363\n",
            "-2145566.934422502\n",
            "-2165259.300974843\n",
            "-2083651.00896639\n",
            "-1890508.5883274481\n",
            "-2065131.7031601446\n",
            "-1664648.2195882944\n",
            "-1745722.654774059\n",
            "-1745722.6548053182\n",
            "-1596425.8006688692\n",
            "-1678158.2222647793\n",
            "-1770002.9251738067\n",
            "-1616415.5139706146\n",
            "-1541346.330097629\n",
            "-1282115.4216989484\n",
            "-1338784.4912583632\n",
            "-1410348.218740197\n",
            "-1413396.6853282545\n",
            "-1478728.7384405502\n",
            "-1478728.7384546488\n",
            "-1547403.5059434997\n",
            "-1547726.4155538012\n",
            "-1701802.3973697831\n",
            "-1770002.9251855277\n",
            "-1845218.675108021\n",
            "-1531351.4735279572\n",
            "-1678158.2222647795\n",
            "-2013387.5569177177\n",
            "-1909462.7069724805\n",
            "-1895003.6221677042\n",
            "-2084085.8218345335\n",
            "-1895003.6221677042\n",
            "-2084085.821822596\n",
            "-1895003.6221898587\n",
            "-1969223.34905636\n",
            "-1802710.039310228\n",
            "-1964552.262662241\n",
            "-1799944.7249960504\n",
            "-1802710.0392432648\n",
            "-1647745.2531434845\n",
            "-1749471.0587284458\n",
            "-1664265.4420700038\n",
            "-1605598.8176070652\n",
            "-1466277.146242363\n",
            "-1403968.1333003363\n",
            "-1335896.9510546285\n",
            "-1341659.1203338911\n",
            "-1219952.2497137056\n",
            "-1219671.7278496865\n",
            "-1282115.4216914135\n",
            "-1210971.7424333498\n",
            "-1157228.0340249564\n",
            "-1106384.320755812\n",
            "-1213851.0517244802\n",
            "-1097752.2010879272\n",
            "-582118.7564849987\n",
            "-303982.59573284915\n",
            "-157916.260445209\n",
            "-43680.781461727915\n",
            "4338.243664952807\n",
            "-21097.715191496212\n",
            "-45978.68627523935\n",
            "-273931.7522419552\n",
            "-109495.10125629343\n",
            "-202332.83218328704\n",
            "-245708.48079559807\n",
            "-342071.9514840824\n",
            "-398463.0389888664\n",
            "-497347.8481108293\n",
            "-400026.9419374801\n",
            "-544601.8004325933\n",
            "-581204.2752634959\n",
            "-556506.1717847711\n",
            "-603619.0940548327\n",
            "-645547.1592795991\n",
            "-792299.8978707105\n",
            "-897829.9571208222\n",
            "-1000765.8757716173\n",
            "-1078585.5488422276\n",
            "-1149110.4200397988\n",
            "-1159886.2712350944\n",
            "-1149110.4200397988\n",
            "-1470876.7289538798\n",
            "-1408342.5782707266\n",
            "-1620158.6534711053\n",
            "-1695724.1270582608\n",
            "-1770336.5559432246\n",
            "-1758955.1858196312\n",
            "-1840644.1631263136\n",
            "-1934434.9485085465\n",
            "-1840644.1631263136\n",
            "-1999763.7055728876\n",
            "-2003701.7389709016\n",
            "-1918555.0271739885\n",
            "-2181204.1345003294\n",
            "-2092627.316855646\n",
            "-2092627.316825784\n",
            "-1922333.1404626616\n",
            "-2293081.415748713\n",
            "-2092961.9142422578\n",
            "-2181552.8947392846\n",
            "-1922667.737848106\n",
            "-2199609.6550953663\n",
            "-1735733.6083566651\n",
            "-1588516.7030681418\n",
            "-1613507.199685739\n",
            "-1542191.9643634968\n",
            "-1685115.6917422267\n",
            "-1266217.2144775235\n",
            "-1402859.3079610183\n",
            "-1539154.3986565867\n",
            "-1405598.2693226137\n",
            "-1207411.8565224437\n",
            "-1281102.8331524786\n",
            "-1343216.9098702658\n",
            "-1265953.0374042958\n",
            "-1277530.7579076446\n",
            "-1405037.7857001752\n",
            "-1541605.5065898388\n",
            "-1534983.4769101888\n",
            "-1613200.3818979908\n",
            "-1602828.0503999966\n",
            "-1848583.4754898646\n",
            "-1911012.9001265091\n",
            "-1995824.8874255293\n",
            "-2101662.4931180025\n",
            "-1999763.7056037951\n",
            "-1911012.9002145482\n",
            "-2008389.3536996632\n",
            "-1999763.7055728876\n",
            "-2088514.5109908339\n",
            "-2003701.7389709016\n",
            "-1658123.3598292074\n",
            "-1918555.0271739885\n",
            "-1735129.5295713025\n",
            "-1685115.6917413364\n",
            "-1521013.156391652\n",
            "-1521013.1563471544\n",
            "-1470876.7289952866\n",
            "-1325022.572374823\n",
            "-1470876.7289952866\n",
            "-1266217.2144599697\n",
            "-1278339.702927094\n",
            "-1207663.8172392792\n",
            "-1275600.7415270507\n",
            "-1202477.1321200072\n",
            "-1275600.7415056832\n",
            "-1221606.1608616756\n",
            "-1162376.771224669\n",
            "-1343216.9099532836\n",
            "-1266217.2144387595\n",
            "-1207663.81721905\n",
            "-1142146.350745794\n",
            "-1389266.0910354205\n",
            "-1389266.0910354205\n",
            "-1313920.7294790403\n",
            "-1253138.2278056971\n",
            "-1374680.0695943784\n",
            "-1374680.0695705567\n",
            "-1238839.5449373808\n",
            "-865333.1605957913\n",
            "-699738.5096107674\n",
            "-274006.2034494521\n",
            "-286677.010554488\n",
            "115650.36035759443\n",
            "115650.36035408339\n",
            "436933.0478001722\n",
            "380559.53595587926\n",
            "543257.4997858554\n",
            "642705.3375934457\n",
            "625259.5753285325\n",
            "791742.4165623165\n",
            "756446.5225480562\n",
            "784026.5859802758\n",
            "862076.3399711973\n",
            "908957.4050182325\n",
            "926579.5338815117\n",
            "1018820.4170991642\n",
            "926579.5339129432\n",
            "1034051.7993979033\n",
            "1045889.2163836354\n",
            "1096598.9965968267\n",
            "1102691.5495548593\n",
            "1162192.4702732947\n",
            "1346787.785268829\n",
            "1346787.7852447133\n",
            "1477666.375581123\n",
            "1696266.6040544661\n",
            "1470702.042755274\n",
            "1771548.0119688485\n",
            "1689274.2016624408\n",
            "1614610.1486353793\n",
            "1771548.0119997468\n",
            "1765201.6002541024\n",
            "1851173.3515924998\n",
            "2022380.135620229\n",
            "1761059.4084103256\n",
            "1918355.903075252\n",
            "1926631.8291687607\n",
            "1751834.908471374\n",
            "1913600.1273554352\n",
            "1739985.5297404702\n",
            "1519515.0182989019\n",
            "1519197.9945081866\n",
            "1659523.771139755\n",
            "1534429.3768165894\n",
            "1449279.3185700513\n",
            "1392516.833246396\n",
            "1472189.329569917\n",
            "1335447.1980271258\n",
            "1157708.7679837362\n",
            "1335754.347930605\n",
            "1270990.500870618\n",
            "1344163.4224909542\n",
            "1346787.7852223273\n",
            "1284508.5812814103\n",
            "1052446.6550158716\n",
            "1278697.765000658\n",
            "1344163.4225146968\n",
            "1284508.5813257617\n",
            "1278697.7649542468\n",
            "1478283.153867761\n",
            "1409334.9823933442\n",
            "1545997.7686734528\n",
            "1477666.3755309973\n",
            "1543568.206146603\n",
            "1534429.3767916958\n",
            "1687181.6400126093\n",
            "1674405.7411622056\n",
            "1674405.7412144071\n",
            "1596976.5739657255\n",
            "1534429.3768165894\n",
            "1519515.0182998695\n",
            "1755955.40331104\n",
            "1596976.5739657257\n",
            "1449279.3185410805\n",
            "1519197.994484505\n",
            "1392516.8333012245\n",
            "1392196.63105413\n",
            "1463473.1050087993\n",
            "1195936.1231598437\n",
            "1270406.052347592\n",
            "1216420.5235363522\n",
            "1344163.4225130684\n",
            "1213232.1073946112\n",
            "1221948.331904658\n",
            "1278697.764908547\n",
            "1106074.5100485275\n",
            "1102921.6573685769\n",
            "1102921.657348191\n",
            "1156396.6468167505\n",
            "1162434.994611821\n",
            "1097192.4556356717\n",
            "1343312.8237125624\n",
            "1156396.6468167503\n",
            "466359.31977807486\n",
            "290282.9538186581\n",
            "77138.15592209573\n",
            "28576.42365356789\n",
            "-7518.108917665239\n",
            "42205.97150699431\n",
            "54095.45810411087\n",
            "99725.29855128145\n",
            "109003.73050604144\n",
            "254008.04332903822\n",
            "210473.95138457435\n",
            "314059.8714821144\n",
            "298832.7262033451\n",
            "332721.6554846747\n",
            "437886.7804424976\n",
            "398950.2369387362\n",
            "529345.7808150287\n",
            "544395.9359886011\n",
            "600881.13857\n",
            "570790.0498571302\n",
            "647258.8938969205\n",
            "730776.1705416893\n",
            "788452.7360117331\n",
            "981522.5494595736\n",
            "1100707.4304459365\n",
            "1051857.3234703026\n",
            "1215739.3725676476\n",
            "1265307.5261457502\n",
            "1398290.0632951607\n",
            "1462950.8754973079\n",
            "1527877.5805957655\n",
            "1595130.4362714023\n",
            "1595130.4362714023\n",
            "1527611.6876191748\n",
            "1459815.293897581\n",
            "1824919.5793598115\n",
            "1676410.9680559323\n",
            "1747370.1624709985\n",
            "1999410.091564408\n",
            "1840024.4780735138\n",
            "1836408.132533215\n",
            "1902164.8525602263\n",
            "1836408.132533215\n",
            "1810228.0752174696\n",
            "1503951.5672016805\n",
            "1665923.355769517\n",
            "1595408.0814234044\n",
            "1503951.5672016805\n",
            "1503951.5671754496\n",
            "1376632.9160100042\n",
            "1315787.2622637057\n",
            "1259873.2723584226\n",
            "1203959.282453835\n",
            "1274684.3118436546\n",
            "1148284.8647681084\n",
            "1324070.63655503\n",
            "1203959.282453835\n",
            "1259873.2723584226\n",
            "1277173.0226030545\n",
            "1094956.4928937908\n",
            "1274684.3118436546\n",
            "1323818.8568345709\n",
            "1215254.5953195929\n",
            "1469261.0707181692\n",
            "1398024.1702930643\n",
            "1524337.516803224\n",
            "1602010.766067083\n",
            "1605451.773612509\n",
            "1602010.766067083\n",
            "1662649.184896647\n",
            "1662649.184896647\n",
            "1733025.8699716371\n",
            "1821332.9206708292\n",
            "1662649.184896647\n",
            "1747370.1624709985\n",
            "1570424.5646470585\n",
            "1503951.5671754496\n",
            "1595130.4363004584\n",
            "1676410.9680559323\n",
            "1398290.0632951607\n",
            "1398024.1703197125\n",
            "1336233.0467696697\n",
            "1242335.243891557\n",
            "1134942.508322064\n",
            "1095184.986628543\n",
            "1203959.282453835\n",
            "1032403.6816625752\n",
            "1201613.236642426\n",
            "1031536.437330125\n",
            "982347.7455819655\n",
            "1094956.4928937908\n",
            "984457.0360805818\n",
            "1095184.986628543\n",
            "1082459.617743185\n",
            "1201613.236642426\n",
            "936725.7858282141\n",
            "1132730.9491715785\n",
            "1071502.2492163582\n"
          ]
        }
      ]
    },
    {
      "cell_type": "code",
      "source": [
        "plotGaussian(x1,m1,v1)\n",
        "plotGaussian(x2,m2,v2)\n",
        "plotGaussian(x3,m3,v3)\n",
        "plotGaussian(x4,m4,v4)\n",
        "plotGaussian(x5,m5,v5)\n"
      ],
      "metadata": {
        "colab": {
          "base_uri": "https://localhost:8080/",
          "height": 1000
        },
        "id": "uD8VV_ADwi2b",
        "outputId": "42059abe-d14c-4806-cdde-5f33c5c839bd"
      },
      "execution_count": null,
      "outputs": [
        {
          "output_type": "display_data",
          "data": {
            "image/png": "[encoded data removed]",
            "text/plain": [
              "<Figure size 432x288 with 1 Axes>"
            ]
          },
          "metadata": {
            "needs_background": "light"
          }
        },
        {
          "output_type": "display_data",
          "data": {
            "image/png": "[encoded data removed]",
            "text/plain": [
              "<Figure size 432x288 with 1 Axes>"
            ]
          },
          "metadata": {
            "needs_background": "light"
          }
        },
        {
          "output_type": "display_data",
          "data": {
            "image/png": "[encoded data removed]",
            "text/plain": [
              "<Figure size 432x288 with 1 Axes>"
            ]
          },
          "metadata": {
            "needs_background": "light"
          }
        },
        {
          "output_type": "display_data",
          "data": {
            "image/png": "[encoded data removed]",
            "text/plain": [
              "<Figure size 432x288 with 1 Axes>"
            ]
          },
          "metadata": {
            "needs_background": "light"
          }
        },
        {
          "output_type": "display_data",
          "data": {
            "image/png": "[encoded data removed]",
            "text/plain": [
              "<Figure size 432x288 with 1 Axes>"
            ]
          },
          "metadata": {
            "needs_background": "light"
          }
        }
      ]
    },
    {
      "cell_type": "code",
      "source": [
        "count = 0\n",
        "for i in x1:\n",
        "  if(i<-18):\n",
        "    count+=1\n",
        "count"
      ],
      "metadata": {
        "colab": {
          "base_uri": "https://localhost:8080/"
        },
        "id": "S4qrECnA1G0f",
        "outputId": "861dd46c-5911-4fcb-d6cd-fac8a63bfd12"
      },
      "execution_count": null,
      "outputs": [
        {
          "output_type": "execute_result",
          "data": {
            "text/plain": [
              "58"
            ]
          },
          "metadata": {},
          "execution_count": 12
        }
      ]
    },
    {
      "cell_type": "code",
      "source": [
        "x_axis = np.arange(min(temp1), max(temp1),10800)\n",
        "mt = mean(temp1, 400)\n",
        "vt = variance(temp1, 400)\n",
        "plt.plot(x_axis,temp1)\n",
        "plt.show()"
      ],
      "metadata": {
        "colab": {
          "base_uri": "https://localhost:8080/",
          "height": 289
        },
        "id": "FaxuZd7Wp2NU",
        "outputId": "652faf4d-77cc-4a29-fbc2-f7e43a580ab7"
      },
      "execution_count": null,
      "outputs": [
        {
          "output_type": "display_data",
          "data": {
            "image/png": "[encoded data removed]",
            "text/plain": [
              "<Figure size 432x288 with 1 Axes>"
            ]
          },
          "metadata": {
            "needs_background": "light"
          }
        }
      ]
    },
    {
      "cell_type": "code",
      "source": [
        "arr = [12,13,114,15,161,17,18]\n",
        "for i in arr:\n",
        "  print(i)"
      ],
      "metadata": {
        "colab": {
          "base_uri": "https://localhost:8080/"
        },
        "id": "dOtBRP66ZDmq",
        "outputId": "1926713e-a2cc-4b9a-80b8-65aed6fb54d5"
      },
      "execution_count": null,
      "outputs": [
        {
          "output_type": "stream",
          "name": "stdout",
          "text": [
            "12\n",
            "13\n",
            "114\n",
            "15\n",
            "161\n",
            "17\n",
            "18\n"
          ]
        }
      ]
    }
  ]
}